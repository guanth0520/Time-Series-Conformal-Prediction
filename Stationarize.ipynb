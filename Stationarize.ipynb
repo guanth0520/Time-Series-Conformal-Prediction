{
 "cells": [
  {
   "cell_type": "code",
   "execution_count": 1,
   "id": "d2d73c87",
   "metadata": {},
   "outputs": [],
   "source": [
    "import numpy as np\n",
    "import pandas as pd\n",
    "from numpy.random import default_rng\n",
    "from typing import Optional\n",
    "\n",
    "from sklearn.linear_model import RidgeCV, LassoCV\n",
    "from sklearn.ensemble import RandomForestRegressor, ExtraTreesRegressor\n",
    "from statsmodels.tsa.stattools import adfuller"
   ]
  },
  {
   "cell_type": "code",
   "execution_count": 2,
   "id": "7169fedf",
   "metadata": {},
   "outputs": [],
   "source": [
    "bjair=pd.read_csv('Beijing_air_Tiantan_data.csv')"
   ]
  },
  {
   "cell_type": "code",
   "execution_count": 3,
   "id": "a7164531",
   "metadata": {},
   "outputs": [
    {
     "data": {
      "text/html": [
       "<div>\n",
       "<style scoped>\n",
       "    .dataframe tbody tr th:only-of-type {\n",
       "        vertical-align: middle;\n",
       "    }\n",
       "\n",
       "    .dataframe tbody tr th {\n",
       "        vertical-align: top;\n",
       "    }\n",
       "\n",
       "    .dataframe thead th {\n",
       "        text-align: right;\n",
       "    }\n",
       "</style>\n",
       "<table border=\"1\" class=\"dataframe\">\n",
       "  <thead>\n",
       "    <tr style=\"text-align: right;\">\n",
       "      <th></th>\n",
       "      <th>No</th>\n",
       "      <th>year</th>\n",
       "      <th>month</th>\n",
       "      <th>day</th>\n",
       "      <th>hour</th>\n",
       "      <th>PM2.5</th>\n",
       "      <th>PM10</th>\n",
       "      <th>SO2</th>\n",
       "      <th>NO2</th>\n",
       "      <th>CO</th>\n",
       "      <th>O3</th>\n",
       "      <th>TEMP</th>\n",
       "      <th>PRES</th>\n",
       "      <th>DEWP</th>\n",
       "      <th>RAIN</th>\n",
       "      <th>wd</th>\n",
       "      <th>WSPM</th>\n",
       "      <th>station</th>\n",
       "    </tr>\n",
       "  </thead>\n",
       "  <tbody>\n",
       "    <tr>\n",
       "      <th>0</th>\n",
       "      <td>1</td>\n",
       "      <td>2013</td>\n",
       "      <td>3</td>\n",
       "      <td>1</td>\n",
       "      <td>0</td>\n",
       "      <td>6.0</td>\n",
       "      <td>6.0</td>\n",
       "      <td>4.0</td>\n",
       "      <td>8.0</td>\n",
       "      <td>300.0</td>\n",
       "      <td>81.0</td>\n",
       "      <td>-0.5</td>\n",
       "      <td>1024.5</td>\n",
       "      <td>-21.4</td>\n",
       "      <td>0.0</td>\n",
       "      <td>NNW</td>\n",
       "      <td>5.7</td>\n",
       "      <td>Tiantan</td>\n",
       "    </tr>\n",
       "    <tr>\n",
       "      <th>1</th>\n",
       "      <td>2</td>\n",
       "      <td>2013</td>\n",
       "      <td>3</td>\n",
       "      <td>1</td>\n",
       "      <td>1</td>\n",
       "      <td>6.0</td>\n",
       "      <td>29.0</td>\n",
       "      <td>5.0</td>\n",
       "      <td>9.0</td>\n",
       "      <td>300.0</td>\n",
       "      <td>80.0</td>\n",
       "      <td>-0.7</td>\n",
       "      <td>1025.1</td>\n",
       "      <td>-22.1</td>\n",
       "      <td>0.0</td>\n",
       "      <td>NW</td>\n",
       "      <td>3.9</td>\n",
       "      <td>Tiantan</td>\n",
       "    </tr>\n",
       "    <tr>\n",
       "      <th>2</th>\n",
       "      <td>3</td>\n",
       "      <td>2013</td>\n",
       "      <td>3</td>\n",
       "      <td>1</td>\n",
       "      <td>2</td>\n",
       "      <td>6.0</td>\n",
       "      <td>6.0</td>\n",
       "      <td>4.0</td>\n",
       "      <td>12.0</td>\n",
       "      <td>300.0</td>\n",
       "      <td>75.0</td>\n",
       "      <td>-1.2</td>\n",
       "      <td>1025.3</td>\n",
       "      <td>-24.6</td>\n",
       "      <td>0.0</td>\n",
       "      <td>NNW</td>\n",
       "      <td>5.3</td>\n",
       "      <td>Tiantan</td>\n",
       "    </tr>\n",
       "    <tr>\n",
       "      <th>3</th>\n",
       "      <td>4</td>\n",
       "      <td>2013</td>\n",
       "      <td>3</td>\n",
       "      <td>1</td>\n",
       "      <td>3</td>\n",
       "      <td>6.0</td>\n",
       "      <td>6.0</td>\n",
       "      <td>4.0</td>\n",
       "      <td>12.0</td>\n",
       "      <td>300.0</td>\n",
       "      <td>74.0</td>\n",
       "      <td>-1.4</td>\n",
       "      <td>1026.2</td>\n",
       "      <td>-25.5</td>\n",
       "      <td>0.0</td>\n",
       "      <td>N</td>\n",
       "      <td>4.9</td>\n",
       "      <td>Tiantan</td>\n",
       "    </tr>\n",
       "    <tr>\n",
       "      <th>4</th>\n",
       "      <td>5</td>\n",
       "      <td>2013</td>\n",
       "      <td>3</td>\n",
       "      <td>1</td>\n",
       "      <td>4</td>\n",
       "      <td>5.0</td>\n",
       "      <td>5.0</td>\n",
       "      <td>7.0</td>\n",
       "      <td>15.0</td>\n",
       "      <td>400.0</td>\n",
       "      <td>70.0</td>\n",
       "      <td>-1.9</td>\n",
       "      <td>1027.1</td>\n",
       "      <td>-24.5</td>\n",
       "      <td>0.0</td>\n",
       "      <td>NNW</td>\n",
       "      <td>3.2</td>\n",
       "      <td>Tiantan</td>\n",
       "    </tr>\n",
       "  </tbody>\n",
       "</table>\n",
       "</div>"
      ],
      "text/plain": [
       "   No  year  month  day  hour  PM2.5  PM10  SO2   NO2     CO    O3  TEMP   \n",
       "0   1  2013      3    1     0    6.0   6.0  4.0   8.0  300.0  81.0  -0.5  \\\n",
       "1   2  2013      3    1     1    6.0  29.0  5.0   9.0  300.0  80.0  -0.7   \n",
       "2   3  2013      3    1     2    6.0   6.0  4.0  12.0  300.0  75.0  -1.2   \n",
       "3   4  2013      3    1     3    6.0   6.0  4.0  12.0  300.0  74.0  -1.4   \n",
       "4   5  2013      3    1     4    5.0   5.0  7.0  15.0  400.0  70.0  -1.9   \n",
       "\n",
       "     PRES  DEWP  RAIN   wd  WSPM  station  \n",
       "0  1024.5 -21.4   0.0  NNW   5.7  Tiantan  \n",
       "1  1025.1 -22.1   0.0   NW   3.9  Tiantan  \n",
       "2  1025.3 -24.6   0.0  NNW   5.3  Tiantan  \n",
       "3  1026.2 -25.5   0.0    N   4.9  Tiantan  \n",
       "4  1027.1 -24.5   0.0  NNW   3.2  Tiantan  "
      ]
     },
     "execution_count": 3,
     "metadata": {},
     "output_type": "execute_result"
    }
   ],
   "source": [
    "bjair.head()"
   ]
  },
  {
   "cell_type": "code",
   "execution_count": 5,
   "id": "7e667589",
   "metadata": {},
   "outputs": [],
   "source": [
    "bjair.dropna(inplace=True)"
   ]
  },
  {
   "cell_type": "code",
   "execution_count": 6,
   "id": "91bc3d2b",
   "metadata": {},
   "outputs": [
    {
     "data": {
      "text/plain": [
       "(-18.973860007018498,\n",
       " 0.0,\n",
       " 48,\n",
       " 32794,\n",
       " {'1%': -3.4305494209896863,\n",
       "  '5%': -2.861628138962805,\n",
       "  '10%': -2.566816913632247},\n",
       " 287482.854285711)"
      ]
     },
     "execution_count": 6,
     "metadata": {},
     "output_type": "execute_result"
    }
   ],
   "source": [
    "adfuller(bjair['PM2.5'])"
   ]
  },
  {
   "cell_type": "code",
   "execution_count": 7,
   "id": "076de160",
   "metadata": {},
   "outputs": [
    {
     "data": {
      "text/plain": [
       "(-21.79085147300261,\n",
       " 0.0,\n",
       " 24,\n",
       " 32818,\n",
       " {'1%': -3.4305492751405127,\n",
       "  '5%': -2.8616280745033746,\n",
       "  '10%': -2.566816879322118},\n",
       " 320237.26044401235)"
      ]
     },
     "execution_count": 7,
     "metadata": {},
     "output_type": "execute_result"
    }
   ],
   "source": [
    "adfuller(bjair['PM10'])"
   ]
  },
  {
   "cell_type": "code",
   "execution_count": 8,
   "id": "0b85fe82",
   "metadata": {},
   "outputs": [
    {
     "data": {
      "text/plain": [
       "(-3.6977043247029773,\n",
       " 0.00414556098558455,\n",
       " 51,\n",
       " 32791,\n",
       " {'1%': -3.430549439235846,\n",
       "  '5%': -2.8616281470268685,\n",
       "  '10%': -2.566816917924545},\n",
       " 92814.68864388712)"
      ]
     },
     "execution_count": 8,
     "metadata": {},
     "output_type": "execute_result"
    }
   ],
   "source": [
    "adfuller(bjair['TEMP'])"
   ]
  },
  {
   "cell_type": "code",
   "execution_count": 3,
   "id": "48485188",
   "metadata": {},
   "outputs": [
    {
     "name": "stdout",
     "output_type": "stream",
     "text": [
      "Looking in indexes: https://pypi.org/simple, https://pip.repos.neuron.amazonaws.com\n",
      "Collecting Tushare\n",
      "  Downloading tushare-1.2.89-py3-none-any.whl (131 kB)\n",
      "\u001b[2K     \u001b[90m━━━━━━━━━━━━━━━━━━━━━━━━━━━━━━━━━━━━━\u001b[0m \u001b[32m131.1/131.1 kB\u001b[0m \u001b[31m978.4 kB/s\u001b[0m eta \u001b[36m0:00:00\u001b[0ma \u001b[36m0:00:01\u001b[0m\n",
      "\u001b[?25hRequirement already satisfied: pandas in /home/ec2-user/anaconda3/envs/python3/lib/python3.10/site-packages (from Tushare) (2.0.1)\n",
      "Requirement already satisfied: requests in /home/ec2-user/anaconda3/envs/python3/lib/python3.10/site-packages (from Tushare) (2.29.0)\n",
      "Collecting lxml (from Tushare)\n",
      "  Downloading lxml-4.9.3-cp310-cp310-manylinux_2_17_x86_64.manylinux2014_x86_64.manylinux_2_24_x86_64.whl (7.0 MB)\n",
      "\u001b[2K     \u001b[90m━━━━━━━━━━━━━━━━━━━━━━━━━━━━━━━━━━━━━━━━\u001b[0m \u001b[32m7.0/7.0 MB\u001b[0m \u001b[31m37.6 MB/s\u001b[0m eta \u001b[36m0:00:00\u001b[0m:00:01\u001b[0m00:01\u001b[0m\n",
      "\u001b[?25hCollecting simplejson (from Tushare)\n",
      "  Downloading simplejson-3.19.1-cp310-cp310-manylinux_2_5_x86_64.manylinux1_x86_64.manylinux_2_17_x86_64.manylinux2014_x86_64.whl (137 kB)\n",
      "\u001b[2K     \u001b[90m━━━━━━━━━━━━━━━━━━━━━━━━━━━━━━━━━━━━━━\u001b[0m \u001b[32m137.9/137.9 kB\u001b[0m \u001b[31m11.6 MB/s\u001b[0m eta \u001b[36m0:00:00\u001b[0m\n",
      "\u001b[?25hCollecting bs4 (from Tushare)\n",
      "  Downloading bs4-0.0.1.tar.gz (1.1 kB)\n",
      "  Preparing metadata (setup.py) ... \u001b[?25ldone\n",
      "\u001b[?25hCollecting websocket-client==0.57.0 (from Tushare)\n",
      "  Downloading websocket_client-0.57.0-py2.py3-none-any.whl (200 kB)\n",
      "\u001b[2K     \u001b[90m━━━━━━━━━━━━━━━━━━━━━━━━━━━━━━━━━━━━━━\u001b[0m \u001b[32m200.9/200.9 kB\u001b[0m \u001b[31m16.4 MB/s\u001b[0m eta \u001b[36m0:00:00\u001b[0m\n",
      "\u001b[?25hRequirement already satisfied: six in /home/ec2-user/anaconda3/envs/python3/lib/python3.10/site-packages (from websocket-client==0.57.0->Tushare) (1.16.0)\n",
      "Requirement already satisfied: beautifulsoup4 in /home/ec2-user/anaconda3/envs/python3/lib/python3.10/site-packages (from bs4->Tushare) (4.12.2)\n",
      "Requirement already satisfied: python-dateutil>=2.8.2 in /home/ec2-user/anaconda3/envs/python3/lib/python3.10/site-packages (from pandas->Tushare) (2.8.2)\n",
      "Requirement already satisfied: pytz>=2020.1 in /home/ec2-user/anaconda3/envs/python3/lib/python3.10/site-packages (from pandas->Tushare) (2023.3)\n",
      "Requirement already satisfied: tzdata>=2022.1 in /home/ec2-user/anaconda3/envs/python3/lib/python3.10/site-packages (from pandas->Tushare) (2023.3)\n",
      "Requirement already satisfied: numpy>=1.21.0 in /home/ec2-user/anaconda3/envs/python3/lib/python3.10/site-packages (from pandas->Tushare) (1.22.3)\n",
      "Requirement already satisfied: charset-normalizer<4,>=2 in /home/ec2-user/anaconda3/envs/python3/lib/python3.10/site-packages (from requests->Tushare) (2.1.1)\n",
      "Requirement already satisfied: idna<4,>=2.5 in /home/ec2-user/anaconda3/envs/python3/lib/python3.10/site-packages (from requests->Tushare) (3.4)\n",
      "Requirement already satisfied: urllib3<1.27,>=1.21.1 in /home/ec2-user/anaconda3/envs/python3/lib/python3.10/site-packages (from requests->Tushare) (1.26.14)\n",
      "Requirement already satisfied: certifi>=2017.4.17 in /home/ec2-user/anaconda3/envs/python3/lib/python3.10/site-packages (from requests->Tushare) (2023.5.7)\n",
      "Requirement already satisfied: soupsieve>1.2 in /home/ec2-user/anaconda3/envs/python3/lib/python3.10/site-packages (from beautifulsoup4->bs4->Tushare) (2.3.2.post1)\n",
      "Building wheels for collected packages: bs4\n",
      "  Building wheel for bs4 (setup.py) ... \u001b[?25ldone\n",
      "\u001b[?25h  Created wheel for bs4: filename=bs4-0.0.1-py3-none-any.whl size=1257 sha256=a000eca3c8df5333bb5db37a0c21a3bffa50283d4414c9c49a8bcf2543665e82\n",
      "  Stored in directory: /home/ec2-user/.cache/pip/wheels/25/42/45/b773edc52acb16cd2db4cf1a0b47117e2f69bb4eb300ed0e70\n",
      "Successfully built bs4\n",
      "Installing collected packages: websocket-client, simplejson, lxml, bs4, Tushare\n",
      "  Attempting uninstall: websocket-client\n",
      "    Found existing installation: websocket-client 1.5.1\n",
      "    Uninstalling websocket-client-1.5.1:\n",
      "      Successfully uninstalled websocket-client-1.5.1\n",
      "\u001b[31mERROR: pip's dependency resolver does not currently take into account all the packages that are installed. This behaviour is the source of the following dependency conflicts.\n",
      "sparkmagic 0.20.5 requires nest-asyncio==1.5.5, but you have nest-asyncio 1.5.6 which is incompatible.\n",
      "sparkmagic 0.20.5 requires pandas<2.0.0,>=0.17.1, but you have pandas 2.0.1 which is incompatible.\u001b[0m\u001b[31m\n",
      "\u001b[0mSuccessfully installed Tushare-1.2.89 bs4-0.0.1 lxml-4.9.3 simplejson-3.19.1 websocket-client-0.57.0\n",
      "Note: you may need to restart the kernel to use updated packages.\n"
     ]
    }
   ],
   "source": [
    "%pip install Tushare"
   ]
  },
  {
   "cell_type": "code",
   "execution_count": 2,
   "id": "281ff24f",
   "metadata": {},
   "outputs": [
    {
     "ename": "ModuleNotFoundError",
     "evalue": "No module named 'tushare'",
     "output_type": "error",
     "traceback": [
      "\u001b[0;31m---------------------------------------------------------------------------\u001b[0m",
      "\u001b[0;31mModuleNotFoundError\u001b[0m                       Traceback (most recent call last)",
      "Cell \u001b[0;32mIn[2], line 2\u001b[0m\n\u001b[1;32m      1\u001b[0m \u001b[38;5;66;03m#Import and Set Token\u001b[39;00m\n\u001b[0;32m----> 2\u001b[0m \u001b[38;5;28;01mimport\u001b[39;00m \u001b[38;5;21;01mtushare\u001b[39;00m \u001b[38;5;28;01mas\u001b[39;00m \u001b[38;5;21;01mts\u001b[39;00m\n\u001b[1;32m      3\u001b[0m \u001b[38;5;66;03m#Given token\u001b[39;00m\n\u001b[1;32m      4\u001b[0m ts\u001b[38;5;241m.\u001b[39mset_token(\u001b[38;5;124m'\u001b[39m\u001b[38;5;124m756a1f4aba6dd90ced168a81497f46697c8499ccfa76b317daf6e874\u001b[39m\u001b[38;5;124m'\u001b[39m)\n",
      "\u001b[0;31mModuleNotFoundError\u001b[0m: No module named 'tushare'"
     ]
    }
   ],
   "source": [
    "#Import and Set Token\n",
    "import tushare as ts\n",
    "#Given token\n",
    "ts.set_token('756a1f4aba6dd90ced168a81497f46697c8499ccfa76b317daf6e874')\n",
    "\n",
    "#my token\n",
    "#ts.set_token('01f4d5ecf2049e20cfa55f771e857249af7d8a9eea17fa9c74b6e690')\n",
    "#Initialize api\n",
    "pro = ts.pro_api()"
   ]
  },
  {
   "cell_type": "code",
   "execution_count": 5,
   "id": "42331d19",
   "metadata": {},
   "outputs": [],
   "source": [
    "data=pro.fund_daily(ts_code='562930.SH')"
   ]
  },
  {
   "cell_type": "code",
   "execution_count": 15,
   "id": "af9d62ac",
   "metadata": {},
   "outputs": [
    {
     "data": {
      "text/plain": [
       "(-1.5099282229902748,\n",
       " 0.5285943967075033,\n",
       " 0,\n",
       " 47,\n",
       " {'1%': -3.5778480370438146,\n",
       "  '5%': -2.925338105429433,\n",
       "  '10%': -2.6007735310095064},\n",
       " -174.26317227656148)"
      ]
     },
     "execution_count": 15,
     "metadata": {},
     "output_type": "execute_result"
    }
   ],
   "source": [
    "adfuller(data['close']) #Non-stationary"
   ]
  },
  {
   "cell_type": "markdown",
   "id": "4ea26d46",
   "metadata": {},
   "source": [
    "# Stationarize (Transformation then deseaonalize)"
   ]
  },
  {
   "cell_type": "markdown",
   "id": "7b0e3f8f",
   "metadata": {},
   "source": [
    "## Log-transformation"
   ]
  },
  {
   "cell_type": "code",
   "execution_count": 16,
   "id": "3be897f6",
   "metadata": {},
   "outputs": [
    {
     "data": {
      "text/plain": [
       "(-1.489145635206965,\n",
       " 0.538873841604416,\n",
       " 0,\n",
       " 47,\n",
       " {'1%': -3.5778480370438146,\n",
       "  '5%': -2.925338105429433,\n",
       "  '10%': -2.6007735310095064},\n",
       " -176.8164609368891)"
      ]
     },
     "execution_count": 16,
     "metadata": {},
     "output_type": "execute_result"
    }
   ],
   "source": [
    "log_price=np.log(data['close'])\n",
    "adfuller(log_price)"
   ]
  },
  {
   "cell_type": "markdown",
   "id": "23e4a169",
   "metadata": {},
   "source": [
    "## Box-Cox Transformation"
   ]
  },
  {
   "cell_type": "code",
   "execution_count": 6,
   "id": "42fe8b5b",
   "metadata": {},
   "outputs": [],
   "source": [
    "from scipy import stats\n",
    "box_data, box_lambda=stats.boxcox(data['close'])"
   ]
  },
  {
   "cell_type": "code",
   "execution_count": 19,
   "id": "fe3fe7da",
   "metadata": {},
   "outputs": [
    {
     "data": {
      "text/plain": [
       "(-1.5466986885460778,\n",
       " 0.510296820873596,\n",
       " 0,\n",
       " 47,\n",
       " {'1%': -3.5778480370438146,\n",
       "  '5%': -2.925338105429433,\n",
       "  '10%': -2.6007735310095064},\n",
       " -178.0512876102752)"
      ]
     },
     "execution_count": 19,
     "metadata": {},
     "output_type": "execute_result"
    }
   ],
   "source": [
    "adfuller(box_data)"
   ]
  },
  {
   "cell_type": "code",
   "execution_count": 23,
   "id": "68d4f4a7",
   "metadata": {},
   "outputs": [
    {
     "data": {
      "text/plain": [
       "array([-0.06946808, -0.03890463, -0.03890463, -0.02828786, -0.02085717,\n",
       "       -0.01847585, -0.04453748, -0.05190221, -0.05650146, -0.05190221,\n",
       "       -0.05806562, -0.1089914 , -0.09100528, -0.05495295, -0.09879322,\n",
       "       -0.09485916, -0.09292231, -0.04453748, -0.05190221, -0.02828786,\n",
       "       -0.02451778, -0.05190221, -0.06448236, -0.03086386, -0.03349122,\n",
       "       -0.02701878, -0.01160453, -0.0138505 ,  0.00488201, -0.00201935,\n",
       "        0.00770109,  0.00953618,  0.008623  ,  0.03328723,  0.03049153,\n",
       "        0.06462991,  0.07996212,  0.06621721,  0.05580017,  0.03729189,\n",
       "        0.04695527,  0.04582286,  0.0214527 ,  0.01310334, -0.00304369,\n",
       "        0.00770109, -0.00512223,  0.02534222])"
      ]
     },
     "execution_count": 23,
     "metadata": {},
     "output_type": "execute_result"
    }
   ],
   "source": [
    "box_data"
   ]
  },
  {
   "cell_type": "code",
   "execution_count": 7,
   "id": "9fe56f10",
   "metadata": {},
   "outputs": [
    {
     "data": {
      "text/plain": [
       "trade_date\n",
       "2023-08-11   -0.069468\n",
       "2023-08-10   -0.038905\n",
       "2023-08-09   -0.038905\n",
       "2023-08-08   -0.028288\n",
       "2023-08-07   -0.020857\n",
       "Name: box_cox_price, dtype: float64"
      ]
     },
     "execution_count": 7,
     "metadata": {},
     "output_type": "execute_result"
    }
   ],
   "source": [
    "date=pd.to_datetime(data['trade_date'])\n",
    "box_price=pd.Series(box_data, index=date, name='box_cox_price')\n",
    "box_price.head()"
   ]
  },
  {
   "cell_type": "code",
   "execution_count": 38,
   "id": "3427c0c7",
   "metadata": {},
   "outputs": [
    {
     "data": {
      "text/plain": [
       "trade_date\n",
       "2023-08-11   -0.069468\n",
       "2023-08-10   -0.038905\n",
       "2023-08-09   -0.038905\n",
       "2023-08-08   -0.028288\n",
       "2023-08-07   -0.020857\n",
       "2023-08-04   -0.018476\n",
       "2023-08-03   -0.044537\n",
       "2023-08-02   -0.051902\n",
       "2023-08-01   -0.056501\n",
       "2023-07-31   -0.051902\n",
       "2023-07-28   -0.058066\n",
       "2023-07-27   -0.108991\n",
       "2023-07-26   -0.091005\n",
       "2023-07-25   -0.054953\n",
       "2023-07-24   -0.098793\n",
       "2023-07-21   -0.094859\n",
       "2023-07-20   -0.092922\n",
       "2023-07-19   -0.044537\n",
       "2023-07-18   -0.051902\n",
       "2023-07-17   -0.028288\n",
       "2023-07-14   -0.024518\n",
       "2023-07-13   -0.051902\n",
       "2023-07-12   -0.064482\n",
       "2023-07-11   -0.030864\n",
       "2023-07-10   -0.033491\n",
       "2023-07-07   -0.027019\n",
       "2023-07-06   -0.011605\n",
       "2023-07-05   -0.013851\n",
       "2023-07-04    0.004882\n",
       "2023-07-03   -0.002019\n",
       "2023-06-30    0.007701\n",
       "2023-06-29    0.009536\n",
       "2023-06-28    0.008623\n",
       "2023-06-27    0.033287\n",
       "2023-06-26    0.030492\n",
       "2023-06-21    0.064630\n",
       "2023-06-20    0.079962\n",
       "2023-06-19    0.066217\n",
       "2023-06-16    0.055800\n",
       "2023-06-15    0.037292\n",
       "2023-06-14    0.046955\n",
       "2023-06-13    0.045823\n",
       "2023-06-12    0.021453\n",
       "2023-06-09    0.013103\n",
       "2023-06-08   -0.003044\n",
       "2023-06-07    0.007701\n",
       "2023-06-06   -0.005122\n",
       "2023-06-05    0.025342\n",
       "Name: box_cox_price, dtype: float64"
      ]
     },
     "execution_count": 38,
     "metadata": {},
     "output_type": "execute_result"
    }
   ],
   "source": [
    "box_price"
   ]
  },
  {
   "cell_type": "markdown",
   "id": "70f3ca84",
   "metadata": {},
   "source": [
    "## STL"
   ]
  },
  {
   "cell_type": "code",
   "execution_count": 8,
   "id": "c94141df",
   "metadata": {},
   "outputs": [],
   "source": [
    "from statsmodels.tsa.seasonal import STL\n",
    "stl_model=STL(box_data, period=12, seasonal=13)\n",
    "res=stl_model.fit()"
   ]
  },
  {
   "cell_type": "code",
   "execution_count": 10,
   "id": "1e72fe41",
   "metadata": {},
   "outputs": [
    {
     "data": {
      "text/plain": [
       "array([-0.04765821, -0.00570038, -0.01783073, -0.00389845,  0.00316366,\n",
       "        0.02468428,  0.00923882,  0.01546676,  0.01678621,  0.00931732,\n",
       "        0.00221178, -0.02505068, -0.02139015,  0.00206302, -0.0088266 ,\n",
       "       -0.00565896,  0.00235771,  0.01604507,  0.00248934,  0.00556943,\n",
       "        0.00231083,  0.00103377, -0.0077361 , -0.00914336,  0.00537194,\n",
       "        0.01013499,  0.00060752, -0.00690931,  0.00218213,  0.00801477,\n",
       "       -0.00442625, -0.00477441, -0.01272473, -0.00753679, -0.01782867,\n",
       "        0.00542907,  0.03238281,  0.01800284,  0.0108443 , -0.00727439,\n",
       "        0.00319634,  0.00028881, -0.01161695, -0.01602415, -0.02880284,\n",
       "       -0.01612468, -0.02759272,  0.01877222])"
      ]
     },
     "execution_count": 10,
     "metadata": {},
     "output_type": "execute_result"
    }
   ],
   "source": [
    "res.seasonal"
   ]
  },
  {
   "cell_type": "code",
   "execution_count": 11,
   "id": "2aa1f9eb",
   "metadata": {},
   "outputs": [
    {
     "data": {
      "text/plain": [
       "array([-0.02028172, -0.02502181, -0.02971662, -0.03434548, -0.0388917 ,\n",
       "       -0.04334936, -0.04772986, -0.05206263, -0.05640211, -0.06084077,\n",
       "       -0.06544508, -0.06804877, -0.06919746, -0.06898333, -0.06775666,\n",
       "       -0.06584593, -0.06352114, -0.06088097, -0.057738  , -0.05385912,\n",
       "       -0.04920057, -0.04395073, -0.03830199, -0.03255463, -0.02698524,\n",
       "       -0.02154786, -0.01595183, -0.0098377 , -0.00315433,  0.00388678,\n",
       "        0.01085691,  0.0173475 ,  0.02319603,  0.02836329,  0.03270598,\n",
       "        0.03617644,  0.03877568,  0.04041204,  0.03924866,  0.03769273,\n",
       "        0.03601518,  0.034224  ,  0.03231064,  0.03026901,  0.02809746,\n",
       "        0.02579774,  0.02337414,  0.02083233])"
      ]
     },
     "execution_count": 11,
     "metadata": {},
     "output_type": "execute_result"
    }
   ],
   "source": [
    "res.trend"
   ]
  },
  {
   "cell_type": "code",
   "execution_count": 14,
   "id": "faefacc9",
   "metadata": {},
   "outputs": [
    {
     "data": {
      "text/plain": [
       "(-4.372956640903829,\n",
       " 0.00033130929768299247,\n",
       " 0,\n",
       " 47,\n",
       " {'1%': -3.5778480370438146,\n",
       "  '5%': -2.925338105429433,\n",
       "  '10%': -2.6007735310095064},\n",
       " -218.5228386273601)"
      ]
     },
     "execution_count": 14,
     "metadata": {},
     "output_type": "execute_result"
    }
   ],
   "source": [
    "adfuller(res.resid)"
   ]
  },
  {
   "cell_type": "markdown",
   "id": "9173acb0",
   "metadata": {},
   "source": [
    "## Differencing"
   ]
  },
  {
   "cell_type": "code",
   "execution_count": 16,
   "id": "9cccb2bf",
   "metadata": {},
   "outputs": [],
   "source": [
    "box_price_diff=box_price.diff(periods=12)"
   ]
  },
  {
   "cell_type": "code",
   "execution_count": 18,
   "id": "cc66961c",
   "metadata": {},
   "outputs": [
    {
     "data": {
      "text/plain": [
       "(-1.5804379993237234,\n",
       " 0.4934122530617333,\n",
       " 0,\n",
       " 35,\n",
       " {'1%': -3.6327426647230316,\n",
       "  '5%': -2.9485102040816327,\n",
       "  '10%': -2.6130173469387756},\n",
       " -102.61936329665099)"
      ]
     },
     "execution_count": 18,
     "metadata": {},
     "output_type": "execute_result"
    }
   ],
   "source": [
    "adfuller(box_price_diff.dropna())"
   ]
  }
 ],
 "metadata": {
  "kernelspec": {
   "display_name": "conda_python3",
   "language": "python",
   "name": "conda_python3"
  },
  "language_info": {
   "codemirror_mode": {
    "name": "ipython",
    "version": 3
   },
   "file_extension": ".py",
   "mimetype": "text/x-python",
   "name": "python",
   "nbconvert_exporter": "python",
   "pygments_lexer": "ipython3",
   "version": "3.10.12"
  }
 },
 "nbformat": 4,
 "nbformat_minor": 5
}
